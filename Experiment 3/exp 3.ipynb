{
  "metadata": {
    "kernelspec": {
      "name": "python",
      "display_name": "Python (Pyodide)",
      "language": "python"
    },
    "language_info": {
      "codemirror_mode": {
        "name": "python",
        "version": 3
      },
      "file_extension": ".py",
      "mimetype": "text/x-python",
      "name": "python",
      "nbconvert_exporter": "python",
      "pygments_lexer": "ipython3",
      "version": "3.8"
    }
  },
  "nbformat_minor": 5,
  "nbformat": 4,
  "cells": [
    {
      "id": "c4e008a0-9641-4298-a6b4-7441dcce06ff",
      "cell_type": "code",
      "source": "if __name__ == '__main__':\n    with open('./file.txt', 'r') as file:\n        lines = file.readlines()\n        numberOfLines = len(lines)\n        numberOfWords = sum(len(line.split()) for line in lines)\n        \n        # Calculate number of characters by summing the length of each line\n        numberOfCharacters = sum(len(line) for line in lines)\n\n    print(f\"Lines: {numberOfLines}\")\n    print(f\"Words: {numberOfWords}\")\n    print(f\"Characters: {numberOfCharacters}\")\n",
      "metadata": {
        "trusted": true
      },
      "outputs": [
        {
          "name": "stdout",
          "output_type": "stream",
          "text": "Lines: 4\nWords: 21\nCharacters: 123\n"
        }
      ],
      "execution_count": 1
    },
    {
      "id": "0e707164-b725-432c-a8ee-9b83c969f238",
      "cell_type": "code",
      "source": "",
      "metadata": {
        "trusted": true
      },
      "outputs": [],
      "execution_count": null
    }
  ]
}
