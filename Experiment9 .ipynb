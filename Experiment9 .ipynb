{
  "metadata": {
    "kernelspec": {
      "name": "python",
      "display_name": "Python (Pyodide)",
      "language": "python"
    },
    "language_info": {
      "codemirror_mode": {
        "name": "python",
        "version": 3
      },
      "file_extension": ".py",
      "mimetype": "text/x-python",
      "name": "python",
      "nbconvert_exporter": "python",
      "pygments_lexer": "ipython3",
      "version": "3.8"
    },
    "colab": {
      "provenance": []
    }
  },
  "nbformat_minor": 4,
  "nbformat": 4,
  "cells": [
    {
      "cell_type": "markdown",
      "source": "## vansh bhelekar-06",
      "metadata": {
        "id": "AxVNGOcKjq1J"
      }
    },
    {
      "cell_type": "markdown",
      "source": "## Experiment - 09",
      "metadata": {
        "id": "55zo76BrjlRK"
      }
    },
    {
      "cell_type": "code",
      "source": "import numpy as np\n\n# 1. Array Creation Techniques\nprint(\"1. Array Creation Techniques\")\n\n# a. Creating an array from a list\narray_from_list = np.array([1, 2, 3, 4, 5])\narray_from_list\n\n# b. Using arange()\narray_arange = np.arange(0, 10, 2)\narray_arange\n\n# c. Using linspace()\narray_linspace = np.linspace(0, 10, 5)  # Divides 0 to 10 into 5 points\narray_linspace\n\n# d. Using zeros()\narray_zeros = np.zeros((3, 3))\narray_zeros\n\n# e. Using ones()\narray_ones = np.ones((2, 2))\narray_ones\n\n# f. Using eye() for identity matrix\narray_eye = np.eye(3)\narray_eye\n\n# g. Using random() for random values\narray_random = np.random.random((3, 3))\narray_random\n\n# 2. Different NumPy Methods\nprint(\"\\n2. NumPy Methods\")\n\n# a. Reshaping an array\nreshaped_array = np.arange(1, 10).reshape(3, 3)\nreshaped_array\n\n# b. Transposing an array\ntransposed_array = reshaped_array.T\ntransposed_array\n\n# c. Mathematical operations\narray_math = np.array([1, 2, 3])\narray_math + 2\narray_math * 3\nnp.sqrt(array_math)\n\n# d. Aggregation methods\nnp.sum(array_math)\nnp.mean(array_math)\nnp.max(array_math)\nnp.min(array_math)\n\n# e. Concatenation of arrays\narray_a = np.array([1, 2, 3])\narray_b = np.array([4, 5, 6])\nconcat_array = np.concatenate((array_a, array_b))\nconcat_array\n\n# f. Sorting an array\nunsorted_array = np.array([3, 1, 4, 2])\nsorted_array = np.sort(unsorted_array)\nsorted_array\n\n# g. Indexing and Slicing\nindexed_value = array_math[1]  # Indexing\nindexed_value\nsliced_array = array_math[1:3]  # Slicing\nsliced_array\n\n# h. Boolean Masking\nboolean_mask = array_math > 2\nboolean_mask\narray_math[boolean_mask]",
      "metadata": {
        "colab": {
          "base_uri": "https://localhost:8080/"
        },
        "id": "ItJhZjv2jhaP",
        "outputId": "9f57416b-1524-420f-cc56-c16dc0a70558"
      },
      "outputs": [
        {
          "output_type": "stream",
          "name": "stdout",
          "text": "1. Array Creation Techniques\n,\n,2. NumPy Methods\n"
        },
        {
          "output_type": "execute_result",
          "data": {
            "text/plain": [
              "array([3])"
            ]
          },
          "metadata": {},
          "execution_count": 1
        }
      ],
      "execution_count": 1
    }
  ]
}