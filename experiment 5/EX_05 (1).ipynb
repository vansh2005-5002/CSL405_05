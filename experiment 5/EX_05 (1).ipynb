{
  "nbformat": 4,
  "nbformat_minor": 0,
  "metadata": {
    "colab": {
      "provenance": []
    },
    "kernelspec": {
      "name": "python3",
      "display_name": "Python 3"
    },
    "language_info": {
      "name": "python"
    }
  },
  "cells": [
    {
      "cell_type": "code",
      "execution_count": 2,
      "metadata": {
        "colab": {
          "base_uri": "https://localhost:8080/"
        },
        "id": "tA0afRISWfj8",
        "outputId": "0cff7bfe-5899-4dd0-d8d3-dad2fec825de"
      },
      "outputs": [
        {
          "output_type": "stream",
          "name": "stdout",
          "text": [
            "Initial Stack\n",
            "['a', 'b', 'c']\n",
            "c\n",
            "b\n",
            "a\n",
            "[]\n"
          ]
        }
      ],
      "source": [
        "stack = list ()\n",
        "\n",
        "# Append Operation\n",
        "stack.append ('a')\n",
        "stack.append ('b')\n",
        "stack.append ('c')\n",
        "print ('Initial Stack')\n",
        "print (stack)\n",
        "['a', 'b', 'c']\n",
        "# Pop Operation\n",
        "print (stack.pop ())\n",
        "print (stack.pop ())\n",
        "print (stack.pop ())\n",
        "print (stack)"
      ]
    },
    {
      "cell_type": "code",
      "source": [
        "class StackDepth:\n",
        "    def maximumDepth(self, stringInput: str) -> int:\n",
        "        stack = []\n",
        "        maximum = 0\n",
        "\n",
        "        for c in stringInput:\n",
        "            if c == '(':\n",
        "                stack.append('(')\n",
        "                maximum = max(maximum, len(stack))\n",
        "            elif c == ')':\n",
        "                stack.pop()\n",
        "\n",
        "        return maximum\n",
        "\n",
        "if __name__ == '__main__':\n",
        "    s1 = StackDepth()\n",
        "    user_input = input(\"Enter a string: \")\n",
        "    result = s1.maximumDepth(user_input)\n",
        "    print(result)\n"
      ],
      "metadata": {
        "colab": {
          "base_uri": "https://localhost:8080/"
        },
        "id": "Wrec0YBMYn67",
        "outputId": "97a7f8b0-1c6a-42a0-ae61-7a86fef3ed81"
      },
      "execution_count": 15,
      "outputs": [
        {
          "output_type": "stream",
          "name": "stdout",
          "text": [
            "Enter a string: (2+3)8*(56(67))\n",
            "2\n"
          ]
        }
      ]
    }
  ]
}
