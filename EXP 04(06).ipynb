{
  "metadata": {
    "kernelspec": {
      "name": "python",
      "display_name": "Python (Pyodide)",
      "language": "python"
    },
    "language_info": {
      "codemirror_mode": {
        "name": "python",
        "version": 3
      },
      "file_extension": ".py",
      "mimetype": "text/x-python",
      "name": "python",
      "nbconvert_exporter": "python",
      "pygments_lexer": "ipython3",
      "version": "3.8"
    }
  },
  "nbformat_minor": 5,
  "nbformat": 4,
  "cells": [
    {
      "id": "f901ca33-6a67-4f28-9781-44159e1e5126",
      "cell_type": "markdown",
      "source": "#### VANSH 06\n\n",
      "metadata": {}
    },
    {
      "id": "34685862-16c7-41a8-b102-3dda279b8853",
      "cell_type": "code",
      "source": "from pathlib import Path\n\n# Get the current directory\ncurrent_directory = Path('.')\n\n# List only files in the current directory\nfiles = [f for f in current_directory.iterdir() if f.is_file()]\n\nprint(\"Files in the current directory:\")\nfor file in files:\n    print(file.name)\n",
      "metadata": {
        "trusted": true
      },
      "outputs": [
        {
          "name": "stdout",
          "output_type": "stream",
          "text": "Files in the current directory:\nEXP 04.ipynb\nUntitled3.ipynb\nexp 3.ipynb\nIntro.ipynb\nLorenz.ipynb\nsqlite.ipynb\n"
        }
      ],
      "execution_count": 2
    },
    {
      "id": "a42c65cb-6a22-415e-907b-82a2dd6d9ff2",
      "cell_type": "code",
      "source": "",
      "metadata": {
        "trusted": true
      },
      "outputs": [],
      "execution_count": null
    }
  ]
}