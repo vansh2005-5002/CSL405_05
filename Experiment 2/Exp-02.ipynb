{
  "cells": [
    {
      "cell_type": "code",
      "execution_count": null,
      "id": "af0e87b7-8e81-4d15-baf4-1abefee21aac",
      "metadata": {
        "trusted": true
      },
      "outputs": [
        {
          "name": "stdout",
          "output_type": "stream",
          "text": [
            "Fullstack Developer\n"
          ]
        }
      ],
      "source": [
        "class Employee:\n",
        "    def __init__ (\n",
        "            self,\n",
        "            designation : str = 'Developer',\n",
        "            frontend : bool = True,\n",
        "            backend : bool = True\n",
        "    ):\n",
        "        self.designation = designation\n",
        "        self.frontend = frontend\n",
        "        self.backend = backend\n",
        "\n",
        "    def __repr__ (self):\n",
        "        return '{}'.format (self.designation, self.frontend, self.backend)\n",
        "    \n",
        "    ### Write the your method over here.\n",
        "    def verifier (self):\n",
        "        if self.frontend and  self.backend :\n",
        "            print ('Fullstack Developer')\n",
        "        elif self.backend :\n",
        "            print (\"Backend developer\")\n",
        "        elif self.frontend :\n",
        "            print (\"Front developer\")\n",
        "        else:\n",
        "            print(\"employee is not skilled in any of the field\")    \n",
        "\n",
        "if __name__ == '__main__':\n",
        "    firstEmployee = Employee ()\n",
        "    firstEmployee.verifier()\n",
        "\n",
        "    # Call the method here to display output."
      ]
    },
    {
      "cell_type": "markdown",
      "id": "d5605b5a",
      "metadata": {},
      "source": [
        "#### Vansh Bhelekar 05"
      ]
    },
    {
      "cell_type": "code",
      "execution_count": 3,
      "id": "0e24921c-89a5-475a-a91d-41d1d26fb664",
      "metadata": {
        "trusted": true
      },
      "outputs": [
        {
          "name": "stdout",
          "output_type": "stream",
          "text": [
            "Backend developer\n"
          ]
        }
      ],
      "source": [
        "class Employee:\n",
        "    def __init__ (\n",
        "            self,\n",
        "            designation : str = 'Developer',\n",
        "            frontend : bool = False,\n",
        "            backend : bool = True\n",
        "    ):\n",
        "        self.designation = designation\n",
        "        self.frontend = frontend\n",
        "        self.backend = backend\n",
        "\n",
        "    def __repr__ (self):\n",
        "        return '{}'.format (self.designation, self.frontend, self.backend)\n",
        "    \n",
        "    ### Write the your method over here.\n",
        "    def verifier (self):\n",
        "        if self.frontend and  self.backend :\n",
        "            print ('Fullstack Developer')\n",
        "        elif self.backend :\n",
        "            print (\"Backend developer\")\n",
        "        elif self.frontend :\n",
        "            print (\"Front developer\")\n",
        "        else:\n",
        "            print(\"employee is not skilled in any of the field\")    \n",
        "\n",
        "if __name__ == '__main__':\n",
        "    firstEmployee = Employee ()\n",
        "    firstEmployee.verifier()\n",
        "\n",
        "    # Call the method here to display output."
      ]
    },
    {
      "cell_type": "code",
      "execution_count": null,
      "id": "d7ba7676-16d2-495e-b255-cedb77766c7d",
      "metadata": {
        "trusted": true
      },
      "outputs": [],
      "source": []
    }
  ],
  "metadata": {
    "kernelspec": {
      "display_name": "Python (Pyodide)",
      "language": "python",
      "name": "python"
    },
    "language_info": {
      "codemirror_mode": {
        "name": "python",
        "version": 3
      },
      "file_extension": ".py",
      "mimetype": "text/x-python",
      "name": "python",
      "nbconvert_exporter": "python",
      "pygments_lexer": "ipython3",
      "version": "3.8"
    }
  },
  "nbformat": 4,
  "nbformat_minor": 5
}
