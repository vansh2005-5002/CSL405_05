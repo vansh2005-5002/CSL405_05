{
  "metadata": {
    "kernelspec": {
      "name": "python",
      "display_name": "Python (Pyodide)",
      "language": "python"
    },
    "language_info": {
      "codemirror_mode": {
        "name": "python",
        "version": 3
      },
      "file_extension": ".py",
      "mimetype": "text/x-python",
      "name": "python",
      "nbconvert_exporter": "python",
      "pygments_lexer": "ipython3",
      "version": "3.8"
    }
  },
  "nbformat_minor": 5,
  "nbformat": 4,
  "cells": [
    {
      "id": "12737da9",
      "cell_type": "markdown",
      "source": "### vansh bhelekar se-06",
      "metadata": {}
    },
    {
      "id": "436e11ed-2588-40ec-aa7d-0b0f213978b5",
      "cell_type": "markdown",
      "source": "### Importing",
      "metadata": {}
    },
    {
      "id": "d8d5853b-0622-480b-9e53-c8aed9741d9b",
      "cell_type": "code",
      "source": "import sqlite3",
      "metadata": {},
      "outputs": [],
      "execution_count": 1
    },
    {
      "id": "4abf5669-8db7-40e4-9be5-be7c6081f274",
      "cell_type": "markdown",
      "source": "### Connecting to Database",
      "metadata": {}
    },
    {
      "id": "ac5ecf79-8edc-49ef-84e3-a8923ba52bd7",
      "cell_type": "code",
      "source": "connection = sqlite3.connect ('./genericDatabase.db')\ncursor = connection.cursor ()",
      "metadata": {},
      "outputs": [],
      "execution_count": 2
    },
    {
      "id": "27fd063a-7fe1-46b5-8242-13d853d0d021",
      "cell_type": "markdown",
      "source": "### Create Table",
      "metadata": {}
    },
    {
      "id": "f2695556-4c9a-437d-b0cc-6b33cf79fd28",
      "cell_type": "code",
      "source": "cursor.execute('''\n    CREATE TABLE IF NOT EXISTS students (\n        id INTEGER PRIMARY KEY AUTOINCREMENT,\n        name TEXT NOT NULL,\n        age INTEGER NOT NULL\n    )\n''')\n\nconnection.commit()",
      "metadata": {},
      "outputs": [],
      "execution_count": 3
    },
    {
      "id": "393ac591-b274-445a-872d-a5bc8d2cedc8",
      "cell_type": "markdown",
      "source": "# CRUD Operations",
      "metadata": {}
    },
    {
      "id": "65a39692-89d0-4225-86eb-1e50c363f42a",
      "cell_type": "markdown",
      "source": "### Create (Insertion)",
      "metadata": {}
    },
    {
      "id": "13e437d0-2dd2-4acd-b841-01c0725918bb",
      "cell_type": "code",
      "source": "def create_student(name, age):\n    cursor.execute('''\n        INSERT INTO students (name, age) \n        VALUES (?, ?)\n    ''', (name, age))\n    connection.commit()\n    print(\"Record added successfully!\")\n\ncreate_student(\"Griffith\", 20)\ncreate_student(\"Guts\", 22)",
      "metadata": {},
      "outputs": [
        {
          "name": "stdout",
          "output_type": "stream",
          "text": "Record added successfully!\n,Record added successfully!\n"
        }
      ],
      "execution_count": 4
    },
    {
      "id": "ec0e95c7-8033-4f90-af57-d6f84b6d07c0",
      "cell_type": "markdown",
      "source": "### Read (Retrieve)",
      "metadata": {}
    },
    {
      "id": "c243a1d6-ecf7-4490-badd-7a3e7e4c9b94",
      "cell_type": "code",
      "source": "def read_students():\n    cursor.execute('SELECT * FROM students')\n    rows = cursor.fetchall()\n    print(\"Student Records:\")\n    for row in rows:\n        print(row)\n\nread_students()",
      "metadata": {},
      "outputs": [
        {
          "name": "stdout",
          "output_type": "stream",
          "text": "Student Records:\n,(1, 'Griffith', 20)\n,(2, 'Guts', 22)\n"
        }
      ],
      "execution_count": 5
    },
    {
      "id": "8bd02381-6af1-4fa2-b2b2-3bd8223936c4",
      "cell_type": "markdown",
      "source": "### Update",
      "metadata": {}
    },
    {
      "id": "8095a1d0-2410-47de-b5ed-c10399d46dfb",
      "cell_type": "code",
      "source": "def update_student_age(student_id, new_age):\n    cursor.execute('''\n    UPDATE students\n    SET age = ?\n    WHERE id = ?\n    ''', (new_age, student_id))\n    connection.commit()\n    print(\"Student age updated successfully!\")\n\nupdate_student_age(1, 21)  # Updating Alice's age to 21\nread_students()",
      "metadata": {},
      "outputs": [
        {
          "name": "stdout",
          "output_type": "stream",
          "text": "Student age updated successfully!\n,Student Records:\n,(1, 'Griffith', 21)\n,(2, 'Guts', 22)\n"
        }
      ],
      "execution_count": null
    },
    {
      "id": "3df56e64-c969-4c3c-b521-28d4609d340e",
      "cell_type": "markdown",
      "source": "### Delete",
      "metadata": {}
    },
    {
      "id": "c7983076-8eaf-4d0e-8f21-a9fdc70dbad0",
      "cell_type": "code",
      "source": "def delete_student(student_id):\n    cursor.execute('''\n    DELETE FROM students\n    WHERE id = ?    \n    ''', (student_id,))\n    connection.commit()\n    print(\"Student deleted successfully!\")\n\ndelete_student(2)  # Deleting Bob's record\nread_students()",
      "metadata": {},
      "outputs": [
        {
          "name": "stdout",
          "output_type": "stream",
          "text": "Student deleted successfully!\n,Student Records:\n,(1, 'Griffith', 21)\n"
        }
      ],
      "execution_count": null
    },
    {
      "id": "a7e69e80-785e-4997-8531-693cf761fcac",
      "cell_type": "markdown",
      "source": "### Closing the database connection",
      "metadata": {}
    },
    {
      "id": "e823ee56-af78-4553-a760-d38b458fb4ca",
      "cell_type": "code",
      "source": "connection.close ()",
      "metadata": {},
      "outputs": [],
      "execution_count": 10
    }
  ]
}
